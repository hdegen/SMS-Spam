{
 "cells": [
  {
   "cell_type": "markdown",
   "id": "ecc20462-bc9e-4925-95c4-dfb0a0b66a69",
   "metadata": {},
   "source": [
    "This is an SMS spam messages study to identify ways to detect spam messages and train a classifcation model to determine if a message could be a spam, being able to block it. Let's start with the libraries:"
   ]
  },
  {
   "cell_type": "code",
   "execution_count": 1,
   "id": "01f3e615-9708-4a0a-9f39-deda29721208",
   "metadata": {},
   "outputs": [],
   "source": [
    "import numpy as np\n",
    "import pandas as pd\n",
    "import matplotlib.pyplot as plt\n",
    "import seaborn as sns"
   ]
  },
  {
   "cell_type": "code",
   "execution_count": 2,
   "id": "295a11b4-ff4e-4c6d-a30f-6f78496f0b61",
   "metadata": {},
   "outputs": [],
   "source": [
    "from sklearn.model_selection import train_test_split\n",
    "from sklearn.linear_model import LogisticRegression\n",
    "from sklearn import metrics"
   ]
  },
  {
   "cell_type": "markdown",
   "id": "3daae808-b3b4-4355-803a-91f7db7aeb58",
   "metadata": {},
   "source": [
    "The dataset used in this case was obtained from kaggle: www.kaggle.com/uciml/sms-spam-collection-dataset"
   ]
  },
  {
   "cell_type": "code",
   "execution_count": 3,
   "id": "a4e679a3-4397-4c08-a65c-38983b89fdfa",
   "metadata": {},
   "outputs": [],
   "source": [
    "#------- READING DATASET -------\n",
    "rawData = pd.read_csv('spam.csv')\n",
    "#Data obtained from kaggle:\n",
    "#www.kaggle.com/uciml/sms-spam-collection-dataset"
   ]
  },
  {
   "cell_type": "code",
   "execution_count": 4,
   "id": "495f735a-af88-4083-9df9-353968caca8a",
   "metadata": {},
   "outputs": [
    {
     "name": "stdout",
     "output_type": "stream",
     "text": [
      "<class 'pandas.core.frame.DataFrame'>\n",
      "RangeIndex: 5572 entries, 0 to 5571\n",
      "Data columns (total 38 columns):\n",
      " #   Column       Non-Null Count  Dtype  \n",
      "---  ------       --------------  -----  \n",
      " 0   v1           5572 non-null   object \n",
      " 1   v2           5571 non-null   object \n",
      " 2   Unnamed: 2   0 non-null      float64\n",
      " 3   Unnamed: 3   167 non-null    object \n",
      " 4   Unnamed: 4   32 non-null     object \n",
      " 5   Unnamed: 5   23 non-null     object \n",
      " 6   Unnamed: 6   10 non-null     object \n",
      " 7   Unnamed: 7   10 non-null     object \n",
      " 8   Unnamed: 8   5 non-null      object \n",
      " 9   Unnamed: 9   4 non-null      object \n",
      " 10  Unnamed: 10  4 non-null      object \n",
      " 11  Unnamed: 11  1 non-null      object \n",
      " 12  Unnamed: 12  1 non-null      object \n",
      " 13  Unnamed: 13  1 non-null      object \n",
      " 14  Unnamed: 14  1 non-null      object \n",
      " 15  Unnamed: 15  1 non-null      object \n",
      " 16  Unnamed: 16  1 non-null      object \n",
      " 17  Unnamed: 17  1 non-null      object \n",
      " 18  Unnamed: 18  1 non-null      object \n",
      " 19  Unnamed: 19  1 non-null      object \n",
      " 20  Unnamed: 20  1 non-null      object \n",
      " 21  Unnamed: 21  1 non-null      object \n",
      " 22  Unnamed: 22  1 non-null      object \n",
      " 23  Unnamed: 23  1 non-null      object \n",
      " 24  Unnamed: 24  1 non-null      object \n",
      " 25  Unnamed: 25  1 non-null      object \n",
      " 26  Unnamed: 26  1 non-null      object \n",
      " 27  Unnamed: 27  1 non-null      object \n",
      " 28  Unnamed: 28  1 non-null      object \n",
      " 29  Unnamed: 29  1 non-null      object \n",
      " 30  Unnamed: 30  1 non-null      object \n",
      " 31  Unnamed: 31  1 non-null      object \n",
      " 32  Unnamed: 32  1 non-null      object \n",
      " 33  Unnamed: 33  1 non-null      object \n",
      " 34  Unnamed: 34  1 non-null      object \n",
      " 35  Unnamed: 35  1 non-null      object \n",
      " 36  Unnamed: 36  1 non-null      object \n",
      " 37  Unnamed: 37  1 non-null      object \n",
      "dtypes: float64(1), object(37)\n",
      "memory usage: 1.6+ MB\n"
     ]
    }
   ],
   "source": [
    "rawData.info()"
   ]
  },
  {
   "cell_type": "code",
   "execution_count": 5,
   "id": "fba164d1-c835-42b9-80c2-db6b08d4198d",
   "metadata": {},
   "outputs": [
    {
     "data": {
      "text/html": [
       "<div>\n",
       "<style scoped>\n",
       "    .dataframe tbody tr th:only-of-type {\n",
       "        vertical-align: middle;\n",
       "    }\n",
       "\n",
       "    .dataframe tbody tr th {\n",
       "        vertical-align: top;\n",
       "    }\n",
       "\n",
       "    .dataframe thead th {\n",
       "        text-align: right;\n",
       "    }\n",
       "</style>\n",
       "<table border=\"1\" class=\"dataframe\">\n",
       "  <thead>\n",
       "    <tr style=\"text-align: right;\">\n",
       "      <th></th>\n",
       "      <th>v1</th>\n",
       "      <th>v2</th>\n",
       "      <th>Unnamed: 2</th>\n",
       "      <th>Unnamed: 3</th>\n",
       "      <th>Unnamed: 4</th>\n",
       "      <th>Unnamed: 5</th>\n",
       "      <th>Unnamed: 6</th>\n",
       "      <th>Unnamed: 7</th>\n",
       "      <th>Unnamed: 8</th>\n",
       "      <th>Unnamed: 9</th>\n",
       "      <th>...</th>\n",
       "      <th>Unnamed: 28</th>\n",
       "      <th>Unnamed: 29</th>\n",
       "      <th>Unnamed: 30</th>\n",
       "      <th>Unnamed: 31</th>\n",
       "      <th>Unnamed: 32</th>\n",
       "      <th>Unnamed: 33</th>\n",
       "      <th>Unnamed: 34</th>\n",
       "      <th>Unnamed: 35</th>\n",
       "      <th>Unnamed: 36</th>\n",
       "      <th>Unnamed: 37</th>\n",
       "    </tr>\n",
       "  </thead>\n",
       "  <tbody>\n",
       "    <tr>\n",
       "      <th>0</th>\n",
       "      <td>ham</td>\n",
       "      <td>Go until jurong point, crazy.. Available only ...</td>\n",
       "      <td>NaN</td>\n",
       "      <td>NaN</td>\n",
       "      <td>NaN</td>\n",
       "      <td>NaN</td>\n",
       "      <td>NaN</td>\n",
       "      <td>NaN</td>\n",
       "      <td>NaN</td>\n",
       "      <td>NaN</td>\n",
       "      <td>...</td>\n",
       "      <td>NaN</td>\n",
       "      <td>NaN</td>\n",
       "      <td>NaN</td>\n",
       "      <td>NaN</td>\n",
       "      <td>NaN</td>\n",
       "      <td>NaN</td>\n",
       "      <td>NaN</td>\n",
       "      <td>NaN</td>\n",
       "      <td>NaN</td>\n",
       "      <td>NaN</td>\n",
       "    </tr>\n",
       "    <tr>\n",
       "      <th>1</th>\n",
       "      <td>ham</td>\n",
       "      <td>Ok lar... Joking wif u oni...</td>\n",
       "      <td>NaN</td>\n",
       "      <td>NaN</td>\n",
       "      <td>NaN</td>\n",
       "      <td>NaN</td>\n",
       "      <td>NaN</td>\n",
       "      <td>NaN</td>\n",
       "      <td>NaN</td>\n",
       "      <td>NaN</td>\n",
       "      <td>...</td>\n",
       "      <td>NaN</td>\n",
       "      <td>NaN</td>\n",
       "      <td>NaN</td>\n",
       "      <td>NaN</td>\n",
       "      <td>NaN</td>\n",
       "      <td>NaN</td>\n",
       "      <td>NaN</td>\n",
       "      <td>NaN</td>\n",
       "      <td>NaN</td>\n",
       "      <td>NaN</td>\n",
       "    </tr>\n",
       "    <tr>\n",
       "      <th>2</th>\n",
       "      <td>spam</td>\n",
       "      <td>Free entry in 2 a wkly comp to win FA Cup fina...</td>\n",
       "      <td>NaN</td>\n",
       "      <td>NaN</td>\n",
       "      <td>NaN</td>\n",
       "      <td>NaN</td>\n",
       "      <td>NaN</td>\n",
       "      <td>NaN</td>\n",
       "      <td>NaN</td>\n",
       "      <td>NaN</td>\n",
       "      <td>...</td>\n",
       "      <td>NaN</td>\n",
       "      <td>NaN</td>\n",
       "      <td>NaN</td>\n",
       "      <td>NaN</td>\n",
       "      <td>NaN</td>\n",
       "      <td>NaN</td>\n",
       "      <td>NaN</td>\n",
       "      <td>NaN</td>\n",
       "      <td>NaN</td>\n",
       "      <td>NaN</td>\n",
       "    </tr>\n",
       "    <tr>\n",
       "      <th>3</th>\n",
       "      <td>ham</td>\n",
       "      <td>U dun say so early hor... U c already then say...</td>\n",
       "      <td>NaN</td>\n",
       "      <td>NaN</td>\n",
       "      <td>NaN</td>\n",
       "      <td>NaN</td>\n",
       "      <td>NaN</td>\n",
       "      <td>NaN</td>\n",
       "      <td>NaN</td>\n",
       "      <td>NaN</td>\n",
       "      <td>...</td>\n",
       "      <td>NaN</td>\n",
       "      <td>NaN</td>\n",
       "      <td>NaN</td>\n",
       "      <td>NaN</td>\n",
       "      <td>NaN</td>\n",
       "      <td>NaN</td>\n",
       "      <td>NaN</td>\n",
       "      <td>NaN</td>\n",
       "      <td>NaN</td>\n",
       "      <td>NaN</td>\n",
       "    </tr>\n",
       "    <tr>\n",
       "      <th>4</th>\n",
       "      <td>ham</td>\n",
       "      <td>Nah I don't think he goes to usf, he lives aro...</td>\n",
       "      <td>NaN</td>\n",
       "      <td>NaN</td>\n",
       "      <td>NaN</td>\n",
       "      <td>NaN</td>\n",
       "      <td>NaN</td>\n",
       "      <td>NaN</td>\n",
       "      <td>NaN</td>\n",
       "      <td>NaN</td>\n",
       "      <td>...</td>\n",
       "      <td>NaN</td>\n",
       "      <td>NaN</td>\n",
       "      <td>NaN</td>\n",
       "      <td>NaN</td>\n",
       "      <td>NaN</td>\n",
       "      <td>NaN</td>\n",
       "      <td>NaN</td>\n",
       "      <td>NaN</td>\n",
       "      <td>NaN</td>\n",
       "      <td>NaN</td>\n",
       "    </tr>\n",
       "  </tbody>\n",
       "</table>\n",
       "<p>5 rows × 38 columns</p>\n",
       "</div>"
      ],
      "text/plain": [
       "     v1                                                 v2  Unnamed: 2  \\\n",
       "0   ham  Go until jurong point, crazy.. Available only ...         NaN   \n",
       "1   ham                      Ok lar... Joking wif u oni...         NaN   \n",
       "2  spam  Free entry in 2 a wkly comp to win FA Cup fina...         NaN   \n",
       "3   ham  U dun say so early hor... U c already then say...         NaN   \n",
       "4   ham  Nah I don't think he goes to usf, he lives aro...         NaN   \n",
       "\n",
       "  Unnamed: 3 Unnamed: 4 Unnamed: 5 Unnamed: 6 Unnamed: 7 Unnamed: 8  \\\n",
       "0        NaN        NaN        NaN        NaN        NaN        NaN   \n",
       "1        NaN        NaN        NaN        NaN        NaN        NaN   \n",
       "2        NaN        NaN        NaN        NaN        NaN        NaN   \n",
       "3        NaN        NaN        NaN        NaN        NaN        NaN   \n",
       "4        NaN        NaN        NaN        NaN        NaN        NaN   \n",
       "\n",
       "  Unnamed: 9  ... Unnamed: 28 Unnamed: 29 Unnamed: 30 Unnamed: 31 Unnamed: 32  \\\n",
       "0        NaN  ...         NaN         NaN         NaN         NaN         NaN   \n",
       "1        NaN  ...         NaN         NaN         NaN         NaN         NaN   \n",
       "2        NaN  ...         NaN         NaN         NaN         NaN         NaN   \n",
       "3        NaN  ...         NaN         NaN         NaN         NaN         NaN   \n",
       "4        NaN  ...         NaN         NaN         NaN         NaN         NaN   \n",
       "\n",
       "  Unnamed: 33 Unnamed: 34 Unnamed: 35 Unnamed: 36 Unnamed: 37  \n",
       "0         NaN         NaN         NaN         NaN         NaN  \n",
       "1         NaN         NaN         NaN         NaN         NaN  \n",
       "2         NaN         NaN         NaN         NaN         NaN  \n",
       "3         NaN         NaN         NaN         NaN         NaN  \n",
       "4         NaN         NaN         NaN         NaN         NaN  \n",
       "\n",
       "[5 rows x 38 columns]"
      ]
     },
     "execution_count": 5,
     "metadata": {},
     "output_type": "execute_result"
    }
   ],
   "source": [
    "rawData.head(5)"
   ]
  },
  {
   "cell_type": "markdown",
   "id": "98ea90de-69b7-485c-9ce7-1e67da48d2b1",
   "metadata": {},
   "source": [
    "In general, this file is a 2 columns dataset with 'v1' as the label of a message as a spam or not (ham) and 'v2' being the sms text. We can start copying the 'v1' and 'v2' to a fresh new data frame and apply a filter just to check if all of the v1 and v2 columns are strings and if v1 is always spam or ham:"
   ]
  },
  {
   "cell_type": "code",
   "execution_count": 6,
   "id": "656feac6-bd1d-497c-bd8b-5145f09cd912",
   "metadata": {},
   "outputs": [],
   "source": [
    "#---------- DATA CONFIG --------\n",
    "data = rawData[['v1','v2']].copy()\n",
    "data = data.loc[data['v1'].apply(lambda x:type(x)==str)]\n",
    "data = data.loc[data['v2'].apply(lambda x:type(x)==str)]\n",
    "data = data.loc[data['v1'].apply(lambda x:x==\"spam\" or x==\"ham\")]"
   ]
  },
  {
   "cell_type": "markdown",
   "id": "3e952784-4b14-4036-b066-668a5d84b8a4",
   "metadata": {},
   "source": [
    "For a better comparison of words in the future, let's create a new information of all of the messages in lower case, and also with splitted words"
   ]
  },
  {
   "cell_type": "code",
   "execution_count": 7,
   "id": "2131faa0-05af-4612-b1f7-b85cfd4173cc",
   "metadata": {},
   "outputs": [],
   "source": [
    "data['msg'] = data['v2'].apply(lambda x:x.lower())\n",
    "data['splitMsg'] = data['msg'].apply(lambda x:x.split(\" \"))"
   ]
  },
  {
   "cell_type": "markdown",
   "id": "1a96610b-227e-4d6b-a7a1-531d15d01a0b",
   "metadata": {},
   "source": [
    "Now we can start to analyse the content of the messages looking for ways to separate spam messages from the real ones. Let's first create a 'isSpam' label:"
   ]
  },
  {
   "cell_type": "code",
   "execution_count": 8,
   "id": "b310f6d5-8aca-430a-93c6-cc77cca0e70f",
   "metadata": {},
   "outputs": [],
   "source": [
    "#--- Set isSpam\n",
    "data['isSpam'] = data['v1'].apply(lambda x: 1 if x==\"spam\" else 0)"
   ]
  },
  {
   "cell_type": "markdown",
   "id": "cb0ea544-78cd-408d-91cc-ab09e7be0c5c",
   "metadata": {},
   "source": [
    "Now, let's separate the messages in starting groups that:\n",
    "1) contain numbers - spam messages may contain astonishing reward cash numbers\n",
    "2) contain the letter '$' - which can again mean a prize\n",
    "3) contain a web link looking at '://' or 'www.' - which can be very dangerous\n",
    "4) contain an email through the letter '@' - this may not necessarily mean an email\n",
    "5) contain a date in the shortest format xx/xx - normally spams needs to express urgency"
   ]
  },
  {
   "cell_type": "code",
   "execution_count": 9,
   "id": "1ac12f79-853f-47ef-abdc-401a27a8ca49",
   "metadata": {},
   "outputs": [],
   "source": [
    "#--- Set hasEmail\n",
    "data['hasEmail'] = data['msg'].apply(lambda x: 1 if \"@\" in x else 0)\n",
    "\n",
    "#--- Set hasWebLink\n",
    "data['hasLink'] = data['msg'].apply(lambda x: 1 if \"://\" in x or \"www.\" in x else 0)\n",
    "\n",
    "#--- Set hasMoney  \n",
    "data['hasMoney'] = data['msg'].apply(lambda x: 1 if \"$\" in x else 0)\n",
    "\n",
    "#--- Set hasNumber \n",
    "def setHasNumber(tex):\n",
    "    for t in tex:\n",
    "        if t.isdigit():\n",
    "            return 1\n",
    "    return 0\n",
    "\n",
    "data['hasNumber'] = data['msg'].apply(setHasNumber)\n",
    "\n",
    "#--- Set hasDate\n",
    "def setHasDate(tex):\n",
    "    vec = tex.split(\" \")\n",
    "    for s in vec:\n",
    "        if len(s) < 5:\n",
    "            continue\n",
    "        if s[0].isdigit() and s[1].isdigit() and s[2] == \"/\" and s[3].isdigit() and s[4].isdigit():\n",
    "            return 1\n",
    "    return 0\n",
    "\n",
    "data['hasDate'] = data['msg'].apply(setHasDate)"
   ]
  },
  {
   "cell_type": "markdown",
   "id": "41f40e82-7248-415c-b859-8b7bac36c2b0",
   "metadata": {},
   "source": [
    "Now let's take a look at these classifications and if they helped us to distinguish a spam message"
   ]
  },
  {
   "cell_type": "code",
   "execution_count": 10,
   "id": "14ddbfd9-d0cc-427d-b7e9-b33ae87e98ee",
   "metadata": {},
   "outputs": [
    {
     "data": {
      "text/plain": [
       "<AxesSubplot:xlabel='hasDate', ylabel='count'>"
      ]
     },
     "execution_count": 10,
     "metadata": {},
     "output_type": "execute_result"
    },
    {
     "data": {
      "image/png": "[encoded data removed]",
      "text/plain": [
       "<Figure size 1080x720 with 4 Axes>"
      ]
     },
     "metadata": {
      "needs_background": "light"
     },
     "output_type": "display_data"
    }
   ],
   "source": [
    "#------- EXPLORATORY PLOT -----\n",
    "fig, axes = plt.subplots(2, 2, figsize=(15, 10))\n",
    "sns.countplot(ax=axes[0][0], x='hasLink', data=data, hue='isSpam')\n",
    "sns.countplot(ax=axes[0][1], x='hasEmail', data=data, hue='isSpam')\n",
    "sns.countplot(ax=axes[1][0], x='hasNumber', data=data, hue='isSpam')\n",
    "sns.countplot(ax=axes[1][1], x='hasDate', data=data, hue='isSpam')"
   ]
  },
  {
   "cell_type": "markdown",
   "id": "97945035-0a50-4fca-a267-d67e10889b10",
   "metadata": {},
   "source": [
    "Let's just set it to a log scale to be sure we are not missing anything"
   ]
  },
  {
   "cell_type": "code",
   "execution_count": 11,
   "id": "6fcd1ed7-2729-42fc-9dd6-56fc8752f46e",
   "metadata": {},
   "outputs": [
    {
     "data": {
      "text/plain": [
       "[None]"
      ]
     },
     "execution_count": 11,
     "metadata": {},
     "output_type": "execute_result"
    },
    {
     "data": {
      "image/png": "[encoded data removed]",
      "text/plain": [
       "<Figure size 1080x720 with 4 Axes>"
      ]
     },
     "metadata": {
      "needs_background": "light"
     },
     "output_type": "display_data"
    }
   ],
   "source": [
    "#------- EXPLORATORY PLOT -----\n",
    "fig, axes = plt.subplots(2, 2, figsize=(15, 10))\n",
    "sns.countplot(ax=axes[0][0], x='hasLink', data=data, hue='isSpam')\n",
    "sns.countplot(ax=axes[0][1], x='hasEmail', data=data, hue='isSpam')\n",
    "sns.countplot(ax=axes[1][0], x='hasNumber', data=data, hue='isSpam')\n",
    "sns.countplot(ax=axes[1][1], x='hasDate', data=data, hue='isSpam')\n",
    "axes[0][0].set(yscale=\"log\")\n",
    "axes[0][1].set(yscale=\"log\")\n",
    "axes[1][0].set(yscale=\"log\")\n",
    "axes[1][1].set(yscale=\"log\")"
   ]
  },
  {
   "cell_type": "markdown",
   "id": "74e7baaa-2ae1-4bfb-b36f-9583bcfe2e15",
   "metadata": {},
   "source": [
    "From the 2 figures at the top we can see that if a message contains a link or an email it will mostly likely be an spam, but only a few number of spam messages compared to all of them contain a link or an email, so these informations may help but they will not be game changer. From the 2 plots at the bottom, the first interesting fact that we obtain is that 100% of the messages that contain a date in xx/xx format are spams. Again, the number of spam messages that contain a date is not enough when compared to the total spam messages that does not contain a data, but a great information that helps in the identification of a spam is that mostly of the spam messages have numbers. Let's now take a look at the 'hasMoney' variable."
   ]
  },
  {
   "cell_type": "code",
   "execution_count": 12,
   "id": "3691bdf0-969e-4aa4-b443-19a9d0154c21",
   "metadata": {},
   "outputs": [
    {
     "data": {
      "image/png": "[encoded data removed]",
      "text/plain": [
       "<Figure size 432x288 with 1 Axes>"
      ]
     },
     "metadata": {
      "needs_background": "light"
     },
     "output_type": "display_data"
    }
   ],
   "source": [
    "sns.countplot(x='hasMoney', data=data, hue='isSpam')\n",
    "plt.yscale('log')"
   ]
  },
  {
   "cell_type": "markdown",
   "id": "5c6929fd-0246-40d0-84e8-46beaadea582",
   "metadata": {},
   "source": [
    "The money simbol ($) does not seems to play a big role in the identification, since the fraction of spam/ham in both hasMoney and has(not)Money are similar."
   ]
  },
  {
   "cell_type": "markdown",
   "id": "cd76cee7-1054-4019-a6af-390ab61d3620",
   "metadata": {},
   "source": [
    "Let's not take a look at the length of the messages to check if there are valuable information in there:"
   ]
  },
  {
   "cell_type": "code",
   "execution_count": 13,
   "id": "a7e52a07-6ac0-4528-a50e-09c780fc5ec1",
   "metadata": {},
   "outputs": [
    {
     "data": {
      "text/plain": [
       "<AxesSubplot:xlabel='len', ylabel='Count'>"
      ]
     },
     "execution_count": 13,
     "metadata": {},
     "output_type": "execute_result"
    },
    {
     "data": {
      "image/png": "[encoded data removed]",
      "text/plain": [
       "<Figure size 432x288 with 1 Axes>"
      ]
     },
     "metadata": {
      "needs_background": "light"
     },
     "output_type": "display_data"
    }
   ],
   "source": [
    "#--- Set Len\n",
    "data['len'] = data['msg'].apply(lambda x:len(x))\n",
    "\n",
    "sns.histplot(x='len',data=data,hue='isSpam',bins=range(0,250,5))"
   ]
  },
  {
   "cell_type": "markdown",
   "id": "f240ffeb-208b-453b-a879-e3b0373245f3",
   "metadata": {},
   "source": [
    "Well, it seems that the number of letters in the message can help us separate regions where we have a greater or smaller chance to get a spam. Let's start separating just in 4 regions:\n",
    "1) from  0 - 80 letters\n",
    "2) from 80 - 130 letters\n",
    "3) from 130 - 165 letters\n",
    "4) 165+ letters"
   ]
  },
  {
   "cell_type": "code",
   "execution_count": 14,
   "id": "6e854819-16fc-43aa-9868-64c619475994",
   "metadata": {},
   "outputs": [],
   "source": [
    "#--- Set Len divisions\n",
    "data['len80'] = data['msg'].apply(lambda x:1 if len(x)<80 else 0)\n",
    "data['len130'] = data['msg'].apply(lambda x:1 if len(x)<130 else 0)\n",
    "data['len165'] = data['msg'].apply(lambda x:1 if len(x)<165 else 0)\n",
    "data['len165+'] = data['msg'].apply(lambda x:1 if len(x)>164 else 0)"
   ]
  },
  {
   "cell_type": "markdown",
   "id": "968a07bf-9b2a-4ab7-abd7-574def0bb01e",
   "metadata": {},
   "source": [
    "Up to now we found 8 variables to try to identify spam messages: if contain numbers, a web link, an email, or a date, and 4 different regions of the number of letters. Let's now take a look at common words used in spam and ham messages that we can use to distinguish them."
   ]
  },
  {
   "cell_type": "code",
   "execution_count": 15,
   "id": "8fea5c53-7cbc-43c4-8917-a7488f011412",
   "metadata": {},
   "outputs": [],
   "source": [
    "#--- Create Dic\n",
    "wordsSpam = data[data['v1'] == \"spam\"]['msg'].str.split(expand=True).stack().value_counts()\n",
    "wordsHam = data[data['v1'] == \"ham\"]['msg'].str.split(expand=True).stack().value_counts()"
   ]
  },
  {
   "cell_type": "code",
   "execution_count": 16,
   "id": "5c70d9f5-08a1-429d-8596-99a9ff7c1341",
   "metadata": {},
   "outputs": [
    {
     "data": {
      "text/plain": [
       "to         682\n",
       "a          373\n",
       "call       342\n",
       "your       263\n",
       "you        252\n",
       "the        204\n",
       "for        201\n",
       "or         188\n",
       "free       180\n",
       "2          169\n",
       "is         152\n",
       "ur         144\n",
       "on         141\n",
       "txt        136\n",
       "have       135\n",
       "from       127\n",
       "and        122\n",
       "u          117\n",
       "text       112\n",
       "mobile     109\n",
       "with       108\n",
       "claim      106\n",
       "reply      101\n",
       "&           98\n",
       "of          95\n",
       "now         93\n",
       "4           93\n",
       "stop        89\n",
       "this        86\n",
       "our         85\n",
       "get         82\n",
       "are         80\n",
       "just        77\n",
       "now!        70\n",
       "in          69\n",
       "new         69\n",
       "only        66\n",
       "send        65\n",
       "nokia       64\n",
       "won         64\n",
       "prize       58\n",
       "win         58\n",
       "cash        56\n",
       "contact     56\n",
       "-           55\n",
       "please      52\n",
       "be          50\n",
       "we          48\n",
       "service     48\n",
       "out         47\n",
       "dtype: int64"
      ]
     },
     "execution_count": 16,
     "metadata": {},
     "output_type": "execute_result"
    }
   ],
   "source": [
    "wordsSpam.head(50)"
   ]
  },
  {
   "cell_type": "code",
   "execution_count": 17,
   "id": "2e6d2a22-7b6b-4501-bde3-c6a0d77d04a5",
   "metadata": {},
   "outputs": [
    {
     "data": {
      "text/plain": [
       "i       2140\n",
       "you     1641\n",
       "to      1508\n",
       "the     1091\n",
       "a       1035\n",
       "u        858\n",
       "and      831\n",
       "in       771\n",
       "my       725\n",
       "is       688\n",
       "me       575\n",
       "of       506\n",
       "for      486\n",
       "that     432\n",
       "it       427\n",
       "have     423\n",
       "but      406\n",
       "your     404\n",
       "are      399\n",
       "so       386\n",
       "on       374\n",
       "not      369\n",
       "i'm      367\n",
       "at       365\n",
       "can      352\n",
       "do       338\n",
       "if       332\n",
       "will     325\n",
       "be       319\n",
       "we       291\n",
       "get      286\n",
       "just     282\n",
       "2        279\n",
       "when     269\n",
       "with     267\n",
       "how      242\n",
       "up       240\n",
       "what     233\n",
       "go       232\n",
       "ur       230\n",
       "all      228\n",
       "got      225\n",
       "this     221\n",
       "no       218\n",
       "was      216\n",
       "like     216\n",
       "or       215\n",
       "call     213\n",
       "come     212\n",
       "know     205\n",
       "dtype: int64"
      ]
     },
     "execution_count": 17,
     "metadata": {},
     "output_type": "execute_result"
    }
   ],
   "source": [
    "wordsHam.head(50)"
   ]
  },
  {
   "cell_type": "markdown",
   "id": "bbe5db80-df5a-407c-a368-4108b7952e98",
   "metadata": {},
   "source": [
    "Ok, so there are common words used in spam messages, such as: free, claim, reply, now, cash, prize, won, winner, and others! In the scope of the ham messages, sometimes they are more informal, using letters as 'r' instead of 'are', or 'u' instead of the word 'you'. Moreover, personal words such as 'i', 'me', 'he', 'she', 'we' are more common in ham messages. So let's use them in a dictionary for classification:"
   ]
  },
  {
   "cell_type": "code",
   "execution_count": 18,
   "id": "d928611f-bb9e-4581-abe1-405ce1cb2a0b",
   "metadata": {},
   "outputs": [],
   "source": [
    "dicSpam = [\"call\",\"free\",\"mobile\",\"claim\",\"reply\",\"now\",\"stop\",\"only\",\"nokia\",\"won\",\"prize\",\"win\",\"cash\",\"contact\",\"please\",\"awarded\",\"award\",\n",
    "\t\t\t\"i\",\"r\",\"u\",\"ur\",\"I'm\",\"i'm\",\"i'll\",\"my\",\"me\",\"he\",\"she\",\"we\",\"his\",\"her\",\"us\"]\n",
    "#The first line contain main words found in the spam messages\n",
    "#The second line contain the main words found in the ham messages"
   ]
  },
  {
   "cell_type": "markdown",
   "id": "a3b33b2e-2040-481d-a1f2-dbaa4d5d29ce",
   "metadata": {},
   "source": [
    "Let's create then the classification for each message if it has or not each of these words from our dictionary. For this we should compare the full word to be sure that words such as 'won' will not return true if it find a word as 'wonderfull' and so on."
   ]
  },
  {
   "cell_type": "code",
   "execution_count": 19,
   "id": "96b25fdb-2078-4dad-a317-1ac824993d52",
   "metadata": {},
   "outputs": [],
   "source": [
    "def hasWord(text,sub):\n",
    "    for word in text:\n",
    "       if sub == word:\n",
    "          return 1\n",
    "    return 0\n",
    "\n",
    "for i in dicSpam:\n",
    "    data[i] = data[\"splitMsg\"].apply(lambda x:hasWord(x,i))"
   ]
  },
  {
   "cell_type": "markdown",
   "id": "a5f413cb-eaf2-4874-88cc-2d13c774afc5",
   "metadata": {},
   "source": [
    "Now we can start to set up a model for our classifications. We can use the logistic regression with the informations that we have. For this we can just use all of the variables that we studied and use the dictionary words:"
   ]
  },
  {
   "cell_type": "code",
   "execution_count": 21,
   "id": "605ee2c1-444f-4acb-bd45-0d002526def1",
   "metadata": {},
   "outputs": [],
   "source": [
    "#------- SETTING MODEL -----\n",
    "y = data['isSpam']\n",
    "variables = ['hasEmail','hasLink','hasMoney','hasNumber','hasDate','len80','len130','len165','len165+']"
   ]
  },
  {
   "cell_type": "markdown",
   "id": "4696cb00-8e42-46d4-9052-69d9923aad23",
   "metadata": {},
   "source": [
    "The number of variables that we have so far are 9"
   ]
  },
  {
   "cell_type": "code",
   "execution_count": 22,
   "id": "2af7fb70-4f7b-4105-8656-f0bd561c161c",
   "metadata": {},
   "outputs": [
    {
     "data": {
      "text/plain": [
       "9"
      ]
     },
     "execution_count": 22,
     "metadata": {},
     "output_type": "execute_result"
    }
   ],
   "source": [
    "len(variables)"
   ]
  },
  {
   "cell_type": "markdown",
   "id": "78d99d83-690e-41fe-ac71-39fd7ba30243",
   "metadata": {},
   "source": [
    "Let's include the dictionary now"
   ]
  },
  {
   "cell_type": "code",
   "execution_count": 23,
   "id": "37a8f7b5-8070-4fc5-b413-bfcac05fed49",
   "metadata": {},
   "outputs": [],
   "source": [
    "for i in dicSpam:\n",
    "   variables.append(i)"
   ]
  },
  {
   "cell_type": "markdown",
   "id": "3b4f15ac-80a4-4289-b2e0-104390913b1b",
   "metadata": {},
   "source": [
    "The number of words used for classification are:"
   ]
  },
  {
   "cell_type": "code",
   "execution_count": 24,
   "id": "7834c0ea-5daa-42e3-b3ed-db725f8ca68c",
   "metadata": {},
   "outputs": [
    {
     "data": {
      "text/plain": [
       "32"
      ]
     },
     "execution_count": 24,
     "metadata": {},
     "output_type": "execute_result"
    }
   ],
   "source": [
    "len(dicSpam)"
   ]
  },
  {
   "cell_type": "markdown",
   "id": "a3c76d0a-cbd1-48b8-84c4-eb7e39c8a98c",
   "metadata": {},
   "source": [
    "So let's set the x variable with the 32 + 9 features and split the dataset"
   ]
  },
  {
   "cell_type": "code",
   "execution_count": 25,
   "id": "140a5a8d-6c67-4068-80c0-485f4f4fb1da",
   "metadata": {},
   "outputs": [],
   "source": [
    "x = data[variables]\n",
    "xT,xt,yT,yt = train_test_split(x,y,test_size=0.3,random_state=1)"
   ]
  },
  {
   "cell_type": "markdown",
   "id": "0c3b559c-1118-4e28-8075-39bd60362644",
   "metadata": {},
   "source": [
    "And train the model"
   ]
  },
  {
   "cell_type": "code",
   "execution_count": 26,
   "id": "1d7f112f-0783-4d88-938b-b37221319d89",
   "metadata": {},
   "outputs": [
    {
     "data": {
      "text/plain": [
       "LogisticRegression(C=1.0, class_weight=None, dual=False, fit_intercept=True,\n",
       "                   intercept_scaling=1, l1_ratio=None, max_iter=100,\n",
       "                   multi_class='auto', n_jobs=None, penalty='l2',\n",
       "                   random_state=None, solver='lbfgs', tol=0.0001, verbose=0,\n",
       "                   warm_start=False)"
      ]
     },
     "execution_count": 26,
     "metadata": {},
     "output_type": "execute_result"
    }
   ],
   "source": [
    "#------- TRAINING MODEL -----\n",
    "logModel = LogisticRegression()\n",
    "logModel.fit(xT,yT)"
   ]
  },
  {
   "cell_type": "markdown",
   "id": "5e5f8729-cf53-47be-9de0-a9534f05f723",
   "metadata": {},
   "source": [
    "Let's check the predictions of the model in the classification"
   ]
  },
  {
   "cell_type": "code",
   "execution_count": 27,
   "id": "8df92ec5-3823-47d5-bcc9-3a475fd504e4",
   "metadata": {},
   "outputs": [
    {
     "name": "stdout",
     "output_type": "stream",
     "text": [
      "METRICS:\n",
      "              precision    recall  f1-score   support\n",
      "\n",
      "           0       0.98      0.99      0.99      1436\n",
      "           1       0.95      0.90      0.92       236\n",
      "\n",
      "    accuracy                           0.98      1672\n",
      "   macro avg       0.97      0.95      0.96      1672\n",
      "weighted avg       0.98      0.98      0.98      1672\n",
      "\n",
      "[[1425   11]\n",
      " [  24  212]]\n"
     ]
    }
   ],
   "source": [
    "#------ MODEL PREDICTION -----\n",
    "pred = logModel.predict(xt)\n",
    "print('METRICS:')\n",
    "print(metrics.classification_report(yt,pred))\n",
    "print(metrics.confusion_matrix(yt,pred))"
   ]
  },
  {
   "cell_type": "markdown",
   "id": "cf72d998-ce2a-42e0-8bbd-5a7a0d0191ed",
   "metadata": {},
   "source": [
    "Basically what we found was that if we use our trained model to this dataset we would have blocked 212 out of 236 spam messages, missing 24 of them. On the other hand, only 11 of the 1436 real ham messages would have been blocked. This means that:"
   ]
  },
  {
   "cell_type": "code",
   "execution_count": 29,
   "id": "91dc0900-769e-489d-b4b9-b5971553e134",
   "metadata": {},
   "outputs": [
    {
     "name": "stdout",
     "output_type": "stream",
     "text": [
      "Real ham messages misidentified as spam and blocked: 0.766016713091922%\n",
      "Real spam messages blocked: 10.16949152542373%\n"
     ]
    }
   ],
   "source": [
    "print(\"Real ham messages misidentified as spam and blocked: \" + str(11/1436*100) + \"%\")\n",
    "print(\"Real spam messages blocked: \" + str(24/236*100) + \"%\")"
   ]
  },
  {
   "cell_type": "markdown",
   "id": "e6f9ed98-53e4-4059-99f4-684c9ae4af38",
   "metadata": {},
   "source": [
    "Almost 90% of spam messages would have been blocked, at the same time that less than 0.8% of real messages would have been blocked. The good thing here would be the balance of the higher spam messages blocked at the same time that the smaller number of real messages would be blocked. These are good results giving the simplicity of the approach used here."
   ]
  }
 ],
 "metadata": {
  "kernelspec": {
   "display_name": "Python 3",
   "language": "python",
   "name": "python3"
  },
  "language_info": {
   "codemirror_mode": {
    "name": "ipython",
    "version": 3
   },
   "file_extension": ".py",
   "mimetype": "text/x-python",
   "name": "python",
   "nbconvert_exporter": "python",
   "pygments_lexer": "ipython3",
   "version": "3.8.10"
  }
 },
 "nbformat": 4,
 "nbformat_minor": 5
}
